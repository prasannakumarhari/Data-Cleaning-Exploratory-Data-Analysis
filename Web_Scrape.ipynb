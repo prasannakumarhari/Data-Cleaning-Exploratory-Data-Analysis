{
 "cells": [
  {
   "cell_type": "code",
   "execution_count": 21,
   "metadata": {
    "collapsed": true
   },
   "outputs": [],
   "source": [
    "import urllib.request\n",
    "import requests\n",
    "from bs4 import BeautifulSoup\n",
    "import pandas as pd\n",
    "import re\n",
    "import datetime\n",
    "import time\n",
    "\n",
    "\n",
    "links = []\n",
    "desc = []\n",
    "valid = []\n",
    "time = []\n",
    "\n",
    "page = urllib.request.urlopen(\"https://www.python.org/\")\n",
    "soup = BeautifulSoup(page,\"html.parser\")\n",
    "complete_links = soup.findAll('a', attrs={'href': re.compile(\"^http\")})\n",
    "for link in complete_links:\n",
    "    links.append(link.get(\"href\"))\n",
    "    desc.append(link.getText())\n",
    "   \n",
    "def checkurl(url):\n",
    "    for each in url:\n",
    "        try:\n",
    "            request = requests.get(each)\n",
    "            \n",
    "        except requests.exceptions.ConnectionError:\n",
    "            request.status_code = \"Connection refused\"\n",
    "        if request.status_code == 200:\n",
    "            valid.append(\"True\")\n",
    "            time.append(str(datetime.datetime.now().strftime('%Y-%m-%d %H:%M:%S')))                                  \n",
    "            \n",
    "        else:\n",
    "            valid.append(\"False\")\n",
    "            time.append(str(datetime.datetime.now().strftime('%Y-%m-%d %H:%M:%S'))) \n",
    "\n",
    "checkurl(links)\n",
    "\n",
    "\n",
    "df = pd.DataFrame(links,columns=['URL'])\n",
    "df['Description']=desc\n",
    "df['Valid']=valid\n",
    "df['Time']=time\n",
    "\n",
    "df.to_csv('WebScrapperfinal.csv', index = False)\n"
   ]
  },
  {
   "cell_type": "code",
   "execution_count": null,
   "metadata": {
    "collapsed": true
   },
   "outputs": [],
   "source": []
  }
 ],
 "metadata": {
  "kernelspec": {
   "display_name": "Python 3",
   "language": "python",
   "name": "python3"
  },
  "language_info": {
   "codemirror_mode": {
    "name": "ipython",
    "version": 3
   },
   "file_extension": ".py",
   "mimetype": "text/x-python",
   "name": "python",
   "nbconvert_exporter": "python",
   "pygments_lexer": "ipython3",
   "version": "3.5.3"
  }
 },
 "nbformat": 4,
 "nbformat_minor": 2
}
